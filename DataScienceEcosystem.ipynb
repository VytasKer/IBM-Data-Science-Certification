{
 "cells": [
  {
   "cell_type": "markdown",
   "id": "20807483-d596-4f08-ab76-c4d5185adcfe",
   "metadata": {},
   "source": [
    "# Data Science Tools and Ecosystem"
   ]
  },
  {
   "cell_type": "markdown",
   "id": "53c85157-0533-4c59-a217-61a7e7c8f7bc",
   "metadata": {},
   "source": [
    "## Author\n",
    "Vytas"
   ]
  },
  {
   "cell_type": "markdown",
   "id": "49791401-f680-481e-800b-03442cde6cdf",
   "metadata": {},
   "source": [
    "In this notebook, Data Science Tools and Ecosystem are summarized."
   ]
  },
  {
   "cell_type": "markdown",
   "id": "50005c58-f5c1-4d1a-9786-d0607fcfce03",
   "metadata": {},
   "source": [
    "*Objectives:*\n",
    "- List open source tools used in data science\n",
    "- make some arithmetic calculations\n",
    "- create Jupyter notebook\n",
    "- practice git commands\n",
    "- introduce yourself to R Studio and R programming language"
   ]
  },
  {
   "cell_type": "markdown",
   "id": "ae6b2d46-787e-4d60-8c80-e041f51b3c02",
   "metadata": {},
   "source": [
    "Some of the popular languages that Data Scientists use are:\n",
    "1. Python\n",
    "2. R\n",
    "3. Scala"
   ]
  },
  {
   "cell_type": "markdown",
   "id": "6311887e-a277-4bea-8db7-12bce88e1d04",
   "metadata": {},
   "source": [
    "Some of the commonly used libraries used by Data Scientists include:\n",
    "1. matplotib\n",
    "2. ggplot\n",
    "3. pandas"
   ]
  },
  {
   "cell_type": "markdown",
   "id": "19342a6e-cb4a-419c-81f6-33dae5b826e9",
   "metadata": {},
   "source": [
    "|Data Science Tools|\n",
    "|----|\n",
    "|Jupyter Notebooks|\n",
    "|R Studio|\n",
    "|Spyder|"
   ]
  },
  {
   "cell_type": "markdown",
   "id": "1f7dd311-f526-44cc-8326-979ce839d770",
   "metadata": {},
   "source": [
    "### Below are a few examples of evaluating arithmetic expressions in Python"
   ]
  },
  {
   "cell_type": "code",
   "execution_count": 2,
   "id": "aabc91a3-bad0-44fe-9460-53adb9b56a1e",
   "metadata": {},
   "outputs": [
    {
     "data": {
      "text/plain": [
       "17"
      ]
     },
     "execution_count": 2,
     "metadata": {},
     "output_type": "execute_result"
    }
   ],
   "source": [
    "# This a simple arithmetic expression to mutiply then add integers\n",
    "(3*4)+5"
   ]
  },
  {
   "cell_type": "code",
   "execution_count": 4,
   "id": "839f8c44-8a99-4d0c-b333-d2a995baff79",
   "metadata": {},
   "outputs": [
    {
     "name": "stdout",
     "output_type": "stream",
     "text": [
      "3.3333333333333335\n"
     ]
    }
   ],
   "source": [
    "# This will convert 200 minutes to hours by diving by 60\n",
    "\n",
    "min = 200\n",
    "hours = min / 60\n",
    "\n",
    "print(hours)"
   ]
  },
  {
   "cell_type": "code",
   "execution_count": null,
   "id": "9e7be9f2-bb9a-4f7a-93d8-34f6ad164b48",
   "metadata": {},
   "outputs": [],
   "source": []
  }
 ],
 "metadata": {
  "kernelspec": {
   "display_name": "Python 3 (ipykernel)",
   "language": "python",
   "name": "python3"
  },
  "language_info": {
   "codemirror_mode": {
    "name": "ipython",
    "version": 3
   },
   "file_extension": ".py",
   "mimetype": "text/x-python",
   "name": "python",
   "nbconvert_exporter": "python",
   "pygments_lexer": "ipython3",
   "version": "3.12.4"
  }
 },
 "nbformat": 4,
 "nbformat_minor": 5
}
